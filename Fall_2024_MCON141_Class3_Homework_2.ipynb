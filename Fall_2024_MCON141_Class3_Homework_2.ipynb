{
 "cells": [
  {
   "cell_type": "markdown",
   "id": "cd91769c",
   "metadata": {},
   "source": [
    "\n",
    "# MCON 141 — Class 3 Homework (v4, No Loops) — Student Edition\n",
    "\n",
    "Welcome! 🌟 This homework is designed to help you feel confident with **decision structures** and **boolean logic**.  \n",
    "You’ll use `if / elif / else`, nested `if` where helpful, and the operators `and`, `or`, and `not`.  \n",
    "We’re **not** using loops yet (`while`, `for`) — everything here can be done with straight‑line code.\n",
    "\n",
    "Additionally, although I am giving you this homework within Jupyter, feel free to work on this in an IDE such as IDLE or PyCharm, and submit the answers here. \n",
    "\n",
    "### How to approach this set\n",
    "- Work one problem at a time. Run your cell, read the output, and refine.\n",
    "- Be kind to yourself — it’s normal to try, run, and adjust as you go.\n",
    "- When taking user input, please **validate it** with `try/except` and use `raise ValueError` for out‑of‑range or invalid options.\n",
    "- Use f‑strings for friendly, clear messages (e.g., `print(f\"Final price: ${price:.2f}\")`).\n",
    "\n",
    "If you get stuck, read the **gentle hints** included after many prompts. You’ve got this! 💪\n"
   ]
  },
  {
   "cell_type": "markdown",
   "id": "6af8aabf",
   "metadata": {},
   "source": [
    "\n",
    "**Validation rules (for all problems)**  \n",
    "- If a numeric input is not a number → handle with `except ValueError`.\n",
    "- If a numeric input is outside the allowed range → `raise ValueError(\"...\")` and handle it.\n",
    "- If a text input isn’t one of the allowed choices (e.g., `y/n`, or `mon..sun`) → `raise ValueError(\"expected ...\")` and handle it.\n",
    "- Normalize text inputs with `.strip().lower()`.\n"
   ]
  },
  {
   "cell_type": "markdown",
   "id": "ba273b62",
   "metadata": {},
   "source": [
    "\n",
    "## 1) Free shipping gate   worth 10.5 points\n",
    "\n",
    "**Prompt**  \n",
    "Ask for **order_total** (float) and **membership** (`\"y\"` / `\"n\"`).  \n",
    "Free shipping rules:  \n",
    "- Free if `order_total >= 60` **or** membership is `\"y\"` **and** `order_total >= 40`.  \n",
    "- Otherwise, no free shipping.\n",
    "\n",
    "**Your task**  \n",
    "- Validate inputs (see rules above).  \n",
    "- Print exactly `\"Free shipping\"` or `\"No free shipping\"`.  \n",
    "\n",
    "*Gentle hint:* It can help to create a boolean like `is_member = (membership == \"y\")` before your `if`.\n"
   ]
  },
  {
   "cell_type": "code",
   "execution_count": null,
   "id": "d9d440a9",
   "metadata": {},
   "outputs": [],
   "source": [
    "\n",
    "# YOUR CODE HERE\n",
    "# 1) Read inputs (order_total, membership) with validation.\n",
    "# 2) Decide based on the rule; print the exact message.\n"
   ]
  },
  {
   "cell_type": "markdown",
   "id": "2b6be3c3",
   "metadata": {},
   "source": [
    "\n",
    "## 2) Triangle validity & type — worth 10 points\n",
    "\n",
    "**Prompt**  \n",
    "Ask for three side lengths **a**, **b**, **c** (floats).  \n",
    "- First, validate that all are **> 0**.  \n",
    "- Then check triangle inequality: `a + b > c`, `a + c > b`, `b + c > a`.  \n",
    "  - If invalid → print `\"Not a triangle\"` and stop.  \n",
    "- If valid, print **exactly one** of: `\"Equilateral\"`, `\"Isosceles\"`, `\"Scalene\"`.\n",
    "\n",
    "**Your task**  \n",
    "- Validate numeric conversion and positivity.  \n",
    "- Implement the checks carefully and choose exactly one type to print.\n",
    "\n",
    "*Gentle hint:* Check validity first; only classify if valid.\n",
    "\n",
    "**Support for triangles **\n",
    "\n",
    "A triangle is Equilateral if All three sides are equal:\n",
    "a == b == c\n",
    "\n",
    "Isosceles : Exactly two sides are equal:\n",
    "(a == b or a == c or b == c) but not all three equal\n",
    "\n",
    "Scalene : All three sides are different:\n",
    "a != b and a != c and b != c\n",
    "\n",
    "\n"
   ]
  },
  {
   "cell_type": "code",
   "execution_count": null,
   "id": "61ea08e9",
   "metadata": {},
   "outputs": [],
   "source": [
    "\n",
    "# YOUR CODE HERE\n",
    "# 1) Inputs a, b, c with validation\n",
    "# 2) If invalid -> print(\"Not a triangle\")\n",
    "# 3) Else -> choose exactly one triangle type\n"
   ]
  },
  {
   "cell_type": "markdown",
   "id": "38d6cf49",
   "metadata": {},
   "source": [
    "\n",
    "## 3) Library access hours with membership override — worth 10 points\n",
    "\n",
    "**Prompt**  \n",
    "Ask for **hour** (int, 0–23) and **member** (`\"y\"`/`\"n\"`).  \n",
    "- Open to **everyone** from 9–20 inclusive.  \n",
    "- Open to **members only** at hours 7–8 and 21–22.  \n",
    "- Otherwise, **Closed**.\n",
    "\n",
    "**Your task**  \n",
    "- Validate inputs.  \n",
    "- Print **exactly one** of: `\"Open to all\"`, `\"Open to members\"`, `\"Closed\"`.\n",
    "\n",
    "*Gentle hint:* Think of this as a small decision tree. Check the “open to all” window first.\n"
   ]
  },
  {
   "cell_type": "code",
   "execution_count": null,
   "id": "ea753771",
   "metadata": {},
   "outputs": [],
   "source": [
    "\n",
    "# YOUR CODE HERE\n",
    "# 1) Validate hour and member\n",
    "# 2) Decide and print one of the three messages\n"
   ]
  },
  {
   "cell_type": "markdown",
   "id": "bbd08bb4",
   "metadata": {},
   "source": [
    "\n",
    "## 4) Temperature banding — worth 10 points\n",
    "\n",
    "**Prompt**  \n",
    "Ask for **temp** (int) and categorize into exactly one label:  \n",
    "- `temp <= 0` → `\"Freezing\"`  \n",
    "- `1–15` → `\"Cold\"`  \n",
    "- `16–25` → `\"Mild\"`  \n",
    "- `26–32` → `\"Warm\"`  \n",
    "- `>= 33` → `\"Hot\"`\n",
    "\n",
    "**Your task**  \n",
    "- Validate integer input.  \n",
    "- Make sure **only one** label is printed.\n",
    "\n",
    "*Gentle hint:* Use `elif` to avoid overlapping outputs.\n"
   ]
  },
  {
   "cell_type": "code",
   "execution_count": null,
   "id": "5986f534",
   "metadata": {},
   "outputs": [],
   "source": [
    "\n",
    "# YOUR CODE HERE\n",
    "# 1) Validate temp (int)\n",
    "# 2) Choose exactly one label to print\n"
   ]
  },
  {
   "cell_type": "markdown",
   "id": "904b40ac",
   "metadata": {},
   "source": [
    "\n",
    "## 5) Street parking rules — worth 10 points\n",
    "\n",
    "**Prompt**  \n",
    "Ask for **day** (`\"mon\"...\"sun\"`), **hour** (0–23), and **holiday** (`\"y\"/\"n\"`).  \n",
    "- **No parking** on weekdays during rush hours: 7–10 and 16–19, **unless** it is a holiday.  \n",
    "- Parking is allowed at all other times (including weekends).\n",
    "\n",
    "**Your task**  \n",
    "- Validate inputs.  \n",
    "- Print exactly `\"Parking allowed\"` **or** `\"No parking\"`.\n",
    "\n",
    "*Gentle hint:* Consider booleans like `is_weekday = day in {...}` and `rush = (7 <= hour <= 10) or (16 <= hour <= 19)`.\n"
   ]
  },
  {
   "cell_type": "code",
   "execution_count": null,
   "id": "ccbba117",
   "metadata": {},
   "outputs": [],
   "source": [
    "\n",
    "# YOUR CODE HERE\n",
    "# 1) Validate day/hour/holiday\n",
    "# 2) Decide and print the exact message\n"
   ]
  },
  {
   "cell_type": "markdown",
   "id": "5dc3c3fa",
   "metadata": {},
   "source": [
    "\n",
    "## 6) Grade with curve boundaries — worth 10 points\n",
    "\n",
    "**Prompt**  \n",
    "Ask for **raw** (float, 0–100) and **curve** (int, can be negative).  \n",
    "- Compute `final = raw + curve`.  \n",
    "- Clamp to [0, 100].  \n",
    "- Print a single letter:\n",
    "  - `>= 90`: `\"A\"`\n",
    "  - `80–89`: `\"B\"`\n",
    "  - `70–79`: `\"C\"`\n",
    "  - `60–69`: `\"D\"`\n",
    "  - else: `\"F\"`\n",
    "\n",
    "**Your task**  \n",
    "- Validate inputs; clamp carefully; print one letter.\n",
    "\n",
    "*Gentle hint:* After adding, use small checks like `if final < 0: final = 0`.\n"
   ]
  },
  {
   "cell_type": "code",
   "execution_count": null,
   "id": "0598e54f",
   "metadata": {},
   "outputs": [],
   "source": [
    "\n",
    "# YOUR CODE HERE\n",
    "# 1) Validate raw/curve\n",
    "# 2) Clamp 0..100\n",
    "# 3) Print one letter\n"
   ]
  },
  {
   "cell_type": "markdown",
   "id": "87c88705",
   "metadata": {},
   "source": [
    "\n",
    "## 7) Palindrome (straight‑line, no loops) — worth 10 points\n",
    "\n",
    "**Prompt**  \n",
    "Ask for **text** (string). Normalize by stripping outer spaces and lowercasing.  \n",
    "If the text reads the same forwards and backwards, print `\"Palindrome\"`; otherwise, print `\"Not palindrome\"`.\n",
    "\n",
    "**Your task**  \n",
    "- No loops needed; slicing is okay (`[::-1]`).  \n",
    "- Keep messages exact.\n",
    "\n",
    "*Gentle hint:* Compare the normalized string to its reversed version.\n",
    "\n",
    "** Support **\n",
    "A palindrome check can be done with just string basics:\n",
    "\n",
    "- .strip() → remove spaces at the edges\n",
    "\n",
    "- .lower() → normalize case\n",
    "\n",
    "- [::-1] → reverses the string\n",
    "- example of string reversal :  my_str == \"cat\" then my_str[::-1] == \"tac\"\n",
    "- my_str_reveresed = my_str[::-1]\n"
   ]
  },
  {
   "cell_type": "code",
   "execution_count": null,
   "id": "f3a3d82a",
   "metadata": {},
   "outputs": [],
   "source": [
    "\n",
    "# YOUR CODE HERE\n",
    "# 1) Read and normalize text\n",
    "# 2) Compare to reversed and print the message\n"
   ]
  },
  {
   "cell_type": "markdown",
   "id": "2953a6f6",
   "metadata": {},
   "source": [
    "\n",
    "## 8) Function practice — `is_palindrome(text) -> bool : worth 10 points\n",
    "\n",
    "You’ll write a **small** helper function, then use it.  \n",
    "It’s okay if functions are new — follow the scaffold and you’ll be fine!\n",
    "\n",
    "**Steps**\n",
    "1. Implement `is_palindrome(text)` that returns `True` if `text.strip().lower()` equals its reversed version, else `False`.\n",
    "2. Then, outside the function, prompt the user and print `\"Palindrome\"` or `\"Not palindrome\"` based on the function’s result.\n",
    "\n",
    "*Gentle hint:* Start by writing the function body with a placeholder `return False`, then improve it.\n"
   ]
  },
  {
   "cell_type": "code",
   "execution_count": null,
   "id": "b9986d4a",
   "metadata": {},
   "outputs": [],
   "source": [
    "\n",
    "def is_palindrome(text):\n",
    "    \"\"\"Return True if text is a palindrome after strip+lower, else False.\"\"\"\n",
    "    # TODO: normalize text (strip + lower)\n",
    "    # TODO: compare with reversed (slicing is ok)\n",
    "    # TODO: return True/False\n",
    "    pass\n",
    "\n",
    "# YOUR CODE HERE\n",
    "# 1) Prompt for input\n",
    "# 2) Call is_palindrome and print the correct message\n"
   ]
  },
  {
   "cell_type": "markdown",
   "id": "8e72d89c",
   "metadata": {},
   "source": [
    "\n",
    "## 9) Function practice — `parking_allowed(day, hour, holiday) -> bool`  : worth 10 points\n",
    "\n",
    "Let’s package the parking policy into a small function and then use it.\n",
    "\n",
    "**Policy reminder**  \n",
    "- **No parking** on weekdays during 7–10 and 16–19, **unless** it is a holiday.  \n",
    "- Parking is allowed at all other times (including weekends).\n",
    "\n",
    "**Steps**\n",
    "1. Implement `parking_allowed(day, hour, holiday)` so it returns `True` when parking is allowed, `False` otherwise.\n",
    "2. Then prompt for inputs, **validate them**, and print `\"Parking allowed\"` or `\"No parking\"`.\n",
    "\n",
    "*Gentle hint:* Booleans like `is_weekday` and `rush` make your `if` very readable.\n"
   ]
  },
  {
   "cell_type": "code",
   "execution_count": null,
   "id": "11240051",
   "metadata": {},
   "outputs": [],
   "source": [
    "\n",
    "def parking_allowed(day, hour, holiday):\n",
    "    \"\"\"Return True if parking is allowed under the policy; else False.\n",
    "    day: 'mon'..'sun', hour: 0..23, holiday: 'y' or 'n'\n",
    "    \"\"\"\n",
    "    # TODO: implement using and/or/not\n",
    "    pass\n",
    "\n",
    "# YOUR CODE HERE\n",
    "# 1) Prompt and validate inputs\n",
    "# 2) Call parking_allowed and print the exact message\n"
   ]
  },
  {
   "cell_type": "markdown",
   "id": "8a8cef39",
   "metadata": {},
   "source": [
    "\n",
    "## 10) Mini‑Project (No Loops): Cinema Entry & Pricing Decision Engine  - 10 points\n",
    "\n",
    "This is a friendly, single‑run decision engine — no loops needed. You’ll determine **entry permission** and a **final ticket price** based on the rules.\n",
    "\n",
    "**Inputs to gather and validate (in this order)**  \n",
    "1. **age** (int, 0–120)  \n",
    "2. **day** (`mon, tue, wed, thu, fri, sat, sun`)  \n",
    "3. **hour** (int 0–23) — cinema is open to **everyone** 10–22 inclusive; **members only** at 9 and 23  \n",
    "4. **holiday** (`y/n`)  \n",
    "5. **member** (`y/n`)  \n",
    "6. **student** (`y/n`)  \n",
    "7. **base_price** (float ≥ 0)  \n",
    "8. **coupon10** (`y/n`)  \n",
    "9. **coupon15** (`y/n`)\n",
    "\n",
    "**Access Policy**  \n",
    "- If holiday → `\"Entry allowed\"` any time.  \n",
    "- Otherwise:  \n",
    "  - 10–22 → `\"Entry allowed\"`  \n",
    "  - 9 or 23 → `\"Entry allowed (members only hours)\"` **if** member is `\"y\"`; otherwise `\"Closed\"`  \n",
    "  - All other hours → `\"Closed\"`  \n",
    "If closed, print the access message and stop.\n",
    "\n",
    "**Discounts (apply at most one in this order)**  \n",
    "1) If both coupons are `\"y\"` → print `\"Invalid: cannot stack\"` and **do not use any coupon** (you may still use age/student/member rule below).  \n",
    "2) Else if `coupon15 == \"y\"` and `base_price >= 80` → 15% off.  \n",
    "3) Else if `coupon10 == \"y\"` and `base_price >= 50` → 10% off.  \n",
    "4) Else if age < 12 or age >= 65 → 20% off.  \n",
    "5) Else if student == \"y\" or member == \"y\" → 10% off.  \n",
    "6) Else → no discount.\n",
    "\n",
    "**Output**  \n",
    "- Print the entry result first. If allowed, print a **pricing summary** (base, discount applied, final) with two decimals using f‑strings.\n",
    "\n",
    "*Gentle hints*  \n",
    "- Create helpful booleans like `is_holiday`, `is_member`, etc.  \n",
    "- Use `f\"{price:.2f}\"` for two decimal places.  \n",
    "- Take your time, and test a few scenarios to see each branch work.\n"
   ]
  },
  {
   "cell_type": "code",
   "execution_count": null,
   "id": "b51d7e1b",
   "metadata": {},
   "outputs": [],
   "source": [
    "\n",
    "# YOUR CODE HERE\n",
    "# 1) Gather and validate inputs (try/except + raise ValueError for issues)\n",
    "# 2) Decide entry\n",
    "# 3) If allowed, apply the discount rules in the given order (at most one discount category)\n",
    "# 4) Print a clear summary with two-decimal formatting\n"
   ]
  },
  {
   "cell_type": "markdown",
   "id": "ca529e29",
   "metadata": {},
   "source": [
    "\n",
    "---\n",
    "\n",
    "### You’re doing great 💫\n",
    "Remember: learning conditionals is about clear thinking and small steps.  \n",
    "Celebrate each little win, and don’t hesitate to re-run cells as you refine your code.\n"
   ]
  }
 ],
 "metadata": {
  "kernelspec": {
   "display_name": "Python 3",
   "language": "python",
   "name": "python3"
  },
  "language_info": {
   "name": "python",
   "version": "3.x"
  }
 },
 "nbformat": 4,
 "nbformat_minor": 5
}
